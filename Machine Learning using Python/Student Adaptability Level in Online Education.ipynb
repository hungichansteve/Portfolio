{
 "cells": [
  {
   "cell_type": "markdown",
   "id": "c74dddbb",
   "metadata": {},
   "source": [
    "## Predicting Adaptability Level of the Student in a Remote Learning Environment"
   ]
  },
  {
   "cell_type": "markdown",
   "id": "5b0700a3",
   "metadata": {},
   "source": [
    "### Project Scope:\n",
    "During the past two years, the COVID-19 pandemic has disrupted education across the globe. In to response this highly transmissible disease, many schools adopted remote learning as the primary delivery mode. The intention was to reach all the students and ensure everyone had the chance to learn. However, there are challenges to overcome, including two-way interaction between instructor and students, availability of the technologies, and so on.\n",
    "\n",
    "Students with different backgrounds might have a significant gap in adaptability to online learning. For example, students from developed countries (USA, Canada) have stable internet connections and devices to participate whereas the third world countries might have difficulties to have reliable internet/ devices. Therefore, some groups of people were more likely to have higher adaptability level than others.\n",
    "\n",
    "\n",
    "Your Role:\n",
    "\n",
    "Build a predictive model that answers the question: “what factors were more likely to affect students' adaptability level in remote learning environment ?” using student data (ie gender, age, financial Condition, etc).\n",
    "\n",
    "\n",
    "Specifics:\n",
    "\n",
    "Machine Learning task: Classification model\n",
    "\n",
    "Target variable: Adaptivity level\n",
    "\n",
    "Input variables: Refer to data dictionary below\n",
    "\n",
    "Success Criteria: Accuracy of 80% and above\n"
   ]
  },
  {
   "cell_type": "markdown",
   "id": "b00ea24e",
   "metadata": {},
   "source": [
    "### Data Dictionary:",
    "\n",
    "The dataset contains several parameters which were recorded about the students. The parameters included are :\n",
    "\n",
    "**Gender:** Boy or Girl\n",
    "\n",
    "**Age:** Age in range\n",
    "\n",
    "**Education Level:** Education institution level (School, University, etc)\n",
    "\n",
    "**Institution Type:** Government or Non-government\n",
    "\n",
    "**IT Student:** Whether the student is studying in IT-related fields\n",
    "\n",
    "**Location in Town:** Is student's location in town\n",
    "\n",
    "**Load-shedding:** Level of load shedding\n",
    "\n",
    "**Financial Condition:** Financial condition of family\n",
    "\n",
    "**Internet Type:** Internet type used mostly in device (Cellular/ Wi-Fi)\n",
    "\n",
    "**Network Type:** Network connectivity type (3G, 4G)\n",
    "\n",
    "**Class Duration:** Daily class duration in hour(s)\n",
    "\n",
    "**Self LMS:** Institution’s own Learning Management System availability\n",
    "\n",
    "**Device:** Device used mostly in class\n",
    "\n",
    "**Adaptivity level:** Adaptability level of the student (High, Moderate, Low)"
   ]
  },
  {
   "cell_type": "code",
   "execution_count": 24,
   "id": "eef31d7f",
   "metadata": {},
   "outputs": [],
   "source": [
    "import numpy as np\n",
    "import pandas as pd\n",
    "import matplotlib.pyplot as plt\n",
    "import seaborn as sns\n",
    "\n",
    "\n",
    "import warnings\n",
    "warnings.filterwarnings(\"ignore\")\n",
    "\n",
    "from sklearn.ensemble import RandomForestClassifier\n",
    "from sklearn.linear_model import LogisticRegression"
   ]
  },
  {
   "cell_type": "code",
   "execution_count": 25,
   "id": "741faf17",
   "metadata": {},
   "outputs": [
    {
     "data": {
      "text/html": [
       "<div>\n",
       "<style scoped>\n",
       "    .dataframe tbody tr th:only-of-type {\n",
       "        vertical-align: middle;\n",
       "    }\n",
       "\n",
       "    .dataframe tbody tr th {\n",
       "        vertical-align: top;\n",
       "    }\n",
       "\n",
       "    .dataframe thead th {\n",
       "        text-align: right;\n",
       "    }\n",
       "</style>\n",
       "<table border=\"1\" class=\"dataframe\">\n",
       "  <thead>\n",
       "    <tr style=\"text-align: right;\">\n",
       "      <th></th>\n",
       "      <th>Gender</th>\n",
       "      <th>Age</th>\n",
       "      <th>Education Level</th>\n",
       "      <th>Institution Type</th>\n",
       "      <th>IT Student</th>\n",
       "      <th>Location</th>\n",
       "      <th>Load-shedding</th>\n",
       "      <th>Financial Condition</th>\n",
       "      <th>Internet Type</th>\n",
       "      <th>Network Type</th>\n",
       "      <th>Class Duration</th>\n",
       "      <th>Self Lms</th>\n",
       "      <th>Device</th>\n",
       "      <th>Adaptivity Level</th>\n",
       "    </tr>\n",
       "  </thead>\n",
       "  <tbody>\n",
       "    <tr>\n",
       "      <th>0</th>\n",
       "      <td>Boy</td>\n",
       "      <td>21-25</td>\n",
       "      <td>University</td>\n",
       "      <td>Non Government</td>\n",
       "      <td>No</td>\n",
       "      <td>Yes</td>\n",
       "      <td>Low</td>\n",
       "      <td>Mid</td>\n",
       "      <td>Wifi</td>\n",
       "      <td>4G</td>\n",
       "      <td>3-6</td>\n",
       "      <td>No</td>\n",
       "      <td>Tab</td>\n",
       "      <td>Moderate</td>\n",
       "    </tr>\n",
       "    <tr>\n",
       "      <th>1</th>\n",
       "      <td>Girl</td>\n",
       "      <td>21-25</td>\n",
       "      <td>University</td>\n",
       "      <td>Non Government</td>\n",
       "      <td>No</td>\n",
       "      <td>Yes</td>\n",
       "      <td>High</td>\n",
       "      <td>Mid</td>\n",
       "      <td>Mobile Data</td>\n",
       "      <td>4G</td>\n",
       "      <td>1-3</td>\n",
       "      <td>Yes</td>\n",
       "      <td>Mobile</td>\n",
       "      <td>Moderate</td>\n",
       "    </tr>\n",
       "    <tr>\n",
       "      <th>2</th>\n",
       "      <td>Girl</td>\n",
       "      <td>16-20</td>\n",
       "      <td>College</td>\n",
       "      <td>Government</td>\n",
       "      <td>No</td>\n",
       "      <td>Yes</td>\n",
       "      <td>Low</td>\n",
       "      <td>Mid</td>\n",
       "      <td>Wifi</td>\n",
       "      <td>4G</td>\n",
       "      <td>1-3</td>\n",
       "      <td>No</td>\n",
       "      <td>Mobile</td>\n",
       "      <td>Moderate</td>\n",
       "    </tr>\n",
       "    <tr>\n",
       "      <th>3</th>\n",
       "      <td>Girl</td>\n",
       "      <td>11-15</td>\n",
       "      <td>School</td>\n",
       "      <td>Non Government</td>\n",
       "      <td>No</td>\n",
       "      <td>Yes</td>\n",
       "      <td>Low</td>\n",
       "      <td>Mid</td>\n",
       "      <td>Mobile Data</td>\n",
       "      <td>4G</td>\n",
       "      <td>1-3</td>\n",
       "      <td>No</td>\n",
       "      <td>Mobile</td>\n",
       "      <td>Moderate</td>\n",
       "    </tr>\n",
       "    <tr>\n",
       "      <th>4</th>\n",
       "      <td>Girl</td>\n",
       "      <td>16-20</td>\n",
       "      <td>School</td>\n",
       "      <td>Non Government</td>\n",
       "      <td>No</td>\n",
       "      <td>Yes</td>\n",
       "      <td>Low</td>\n",
       "      <td>Poor</td>\n",
       "      <td>Mobile Data</td>\n",
       "      <td>3G</td>\n",
       "      <td>0</td>\n",
       "      <td>No</td>\n",
       "      <td>Mobile</td>\n",
       "      <td>Low</td>\n",
       "    </tr>\n",
       "  </tbody>\n",
       "</table>\n",
       "</div>"
      ],
      "text/plain": [
       "  Gender    Age Education Level Institution Type IT Student Location  \\\n",
       "0    Boy  21-25      University   Non Government         No      Yes   \n",
       "1   Girl  21-25      University   Non Government         No      Yes   \n",
       "2   Girl  16-20         College       Government         No      Yes   \n",
       "3   Girl  11-15          School   Non Government         No      Yes   \n",
       "4   Girl  16-20          School   Non Government         No      Yes   \n",
       "\n",
       "  Load-shedding Financial Condition Internet Type Network Type Class Duration  \\\n",
       "0           Low                 Mid          Wifi           4G            3-6   \n",
       "1          High                 Mid   Mobile Data           4G            1-3   \n",
       "2           Low                 Mid          Wifi           4G            1-3   \n",
       "3           Low                 Mid   Mobile Data           4G            1-3   \n",
       "4           Low                Poor   Mobile Data           3G              0   \n",
       "\n",
       "  Self Lms  Device Adaptivity Level  \n",
       "0       No     Tab         Moderate  \n",
       "1      Yes  Mobile         Moderate  \n",
       "2       No  Mobile         Moderate  \n",
       "3       No  Mobile         Moderate  \n",
       "4       No  Mobile              Low  "
      ]
     },
     "execution_count": 25,
     "metadata": {},
     "output_type": "execute_result"
    }
   ],
   "source": [
    "df = pd.read_csv('students_adaptability_level_online_education.csv')\n",
    "df.head()"
   ]
  },
  {
   "cell_type": "code",
   "execution_count": 26,
   "id": "06533c60",
   "metadata": {},
   "outputs": [
    {
     "name": "stdout",
     "output_type": "stream",
     "text": [
      "<class 'pandas.core.frame.DataFrame'>\n",
      "RangeIndex: 1205 entries, 0 to 1204\n",
      "Data columns (total 14 columns):\n",
      " #   Column               Non-Null Count  Dtype \n",
      "---  ------               --------------  ----- \n",
      " 0   Gender               1205 non-null   object\n",
      " 1   Age                  1205 non-null   object\n",
      " 2   Education Level      1205 non-null   object\n",
      " 3   Institution Type     1205 non-null   object\n",
      " 4   IT Student           1205 non-null   object\n",
      " 5   Location             1205 non-null   object\n",
      " 6   Load-shedding        1205 non-null   object\n",
      " 7   Financial Condition  1205 non-null   object\n",
      " 8   Internet Type        1205 non-null   object\n",
      " 9   Network Type         1205 non-null   object\n",
      " 10  Class Duration       1205 non-null   object\n",
      " 11  Self Lms             1205 non-null   object\n",
      " 12  Device               1205 non-null   object\n",
      " 13  Adaptivity Level     1205 non-null   object\n",
      "dtypes: object(14)\n",
      "memory usage: 131.9+ KB\n"
     ]
    }
   ],
   "source": [
    "#Check the structure of the dataset including data types, number of rows, columns and non-null records.\n",
    "df.info()"
   ]
  },
  {
   "cell_type": "code",
   "execution_count": 27,
   "id": "8d40ba01",
   "metadata": {},
   "outputs": [
    {
     "data": {
      "text/plain": [
       "Gender                 0\n",
       "Age                    0\n",
       "Education Level        0\n",
       "Institution Type       0\n",
       "IT Student             0\n",
       "Location               0\n",
       "Load-shedding          0\n",
       "Financial Condition    0\n",
       "Internet Type          0\n",
       "Network Type           0\n",
       "Class Duration         0\n",
       "Self Lms               0\n",
       "Device                 0\n",
       "Adaptivity Level       0\n",
       "dtype: int64"
      ]
     },
     "execution_count": 27,
     "metadata": {},
     "output_type": "execute_result"
    }
   ],
   "source": [
    "#Check if any missing values\n",
    "df.isnull().sum()"
   ]
  },
  {
   "cell_type": "markdown",
   "id": "c21c5e25",
   "metadata": {},
   "source": [
    "### Data Visalization\n",
    "Plotting charts help us understand the dataset easily compared to the rows and columns. Let's check the dataset through various types of plots."
   ]
  },
  {
   "cell_type": "code",
   "execution_count": 28,
   "id": "03540872",
   "metadata": {},
   "outputs": [
    {
     "data": {
      "text/plain": [
       "Moderate    625\n",
       "Low         480\n",
       "High        100\n",
       "Name: Adaptivity Level, dtype: int64"
      ]
     },
     "execution_count": 28,
     "metadata": {},
     "output_type": "execute_result"
    }
   ],
   "source": [
    "#Check the distribution of the target variable\n",
    "df['Adaptivity Level'].value_counts()"
   ]
  },
  {
   "cell_type": "code",
   "execution_count": 29,
   "id": "6db74353",
   "metadata": {},
   "outputs": [
    {
     "data": {
      "image/png": "[encoded data removed]",
      "text/plain": [
       "<Figure size 432x288 with 1 Axes>"
      ]
     },
     "metadata": {},
     "output_type": "display_data"
    }
   ],
   "source": [
    "# plot the occurrence of different adaptivity level in the dataset\n",
    "plt.pie(df['Adaptivity Level'].value_counts(), autopct = '%.1f%%', radius = 1.2, labels = ['Moderate', 'Low','High'])\n",
    "\n",
    "\n",
    "# display the plot\n",
    "plt.show()"
   ]
  },
  {
   "cell_type": "markdown",
   "id": "0b18057b",
   "metadata": {},
   "source": [
    "**Observations**\n",
    "\n",
    "* From the above pie plot, it can be seen that the data has a high proportion for Moderate followed by Low.The dataset is not balanced regarding the target variable"
   ]
  },
  {
   "cell_type": "code",
   "execution_count": 30,
   "id": "37caeabe",
   "metadata": {},
   "outputs": [
    {
     "data": {
      "image/png": "[encoded data removed]",
      "text/plain": [
       "<Figure size 432x288 with 1 Axes>"
      ]
     },
     "metadata": {
      "needs_background": "light"
     },
     "output_type": "display_data"
    }
   ],
   "source": [
    "# See if the correlation of Adaptivity level and IT student.\n",
    "\n",
    "w = 0.6\n",
    "Num_NonIT_stud = df[df['IT Student'] == 'No'].groupby('Adaptivity Level')['IT Student'].count()\n",
    "Num_IT_stud = df[df['IT Student'] == 'Yes'].groupby('Adaptivity Level')['IT Student'].count()\n",
    "# Plot stacked bar chart\n",
    "plt.bar(sorted(df['Adaptivity Level'].unique()), Num_IT_stud, w)\n",
    "plt.bar(sorted(df['Adaptivity Level'].unique()), Num_NonIT_stud, w, Num_IT_stud)\n",
    "# Display\n",
    "plt.title('Adaptivity Level vs IT student', fontsize=18, fontweight='bold', color='black')\n",
    "plt.xlabel('Adaptivity Level')\n",
    "plt.ylabel(\"No.of students\")\n",
    "plt.legend(labels=['IT Student', 'Non-IT Student'], loc=2)\n",
    "plt.show()"
   ]
  },
  {
   "cell_type": "markdown",
   "id": "1daccd23",
   "metadata": {},
   "source": [
    "**Observation**\n",
    "* IT and Non-IT students' adaptivity levels are Moderate, which indicates the technical background is less likely to affect the adaptivity level.\n",
    "* Both share similar performance on adaptivity level with the lowest number in High and highest number in Moderate."
   ]
  },
  {
   "cell_type": "code",
   "execution_count": 31,
   "id": "e09b8f48",
   "metadata": {},
   "outputs": [
    {
     "data": {
      "image/png": "[encoded data removed]",
      "text/plain": [
       "<Figure size 2160x720 with 3 Axes>"
      ]
     },
     "metadata": {},
     "output_type": "display_data"
    }
   ],
   "source": [
    "#Check if the Financial Condition and Adaptivity are correlated\n",
    "#.set_index(Num_Diff_Financial.index // 3)['counts']\n",
    "x = df['Financial Condition']\n",
    "\n",
    "def label_function(val):\n",
    "    return f'{val / 100 * len(df):.0f}\\n{val:.0f}%'\n",
    "\n",
    "Num_Poor_stud = df[x == 'Poor'].groupby('Adaptivity Level')['Financial Condition'].count()\n",
    "Num_Mid_stud = df[x == 'Mid'].groupby('Adaptivity Level')['Financial Condition'].count()\n",
    "Num_Rich_stud = df[x == 'Rich'].groupby('Adaptivity Level')['Financial Condition'].count()\n",
    "\n",
    "fig, (ax1, ax2, ax3) = plt.subplots(ncols=3, figsize=(30, 10))\n",
    "\n",
    "Num_Poor_stud.plot(kind='pie', autopct=label_function, textprops={'fontsize': 20},\n",
    "                                  colors=['tomato', 'gold', 'skyblue'], ax=ax1)\n",
    "Num_Mid_stud.plot(kind='pie', autopct=label_function, textprops={'fontsize': 20},\n",
    "                                 colors=['tomato', 'gold', 'skyblue'], ax=ax2)\n",
    "Num_Rich_stud.plot(kind='pie', autopct=label_function, textprops={'fontsize': 20},\n",
    "                                 colors=['tomato', 'gold', 'skyblue'], ax=ax3)\n",
    "\n",
    "ax1.set_xlabel(\"Poor Students' Adaptivity Level\", size=30)\n",
    "ax2.set_xlabel(\"Middle Class Students' Adaptivity Level\", size=30)\n",
    "ax3.set_xlabel(\"Rich Students' Adaptivity Level\", size=30)\n",
    "ax1.set_ylabel(\"\")\n",
    "ax2.set_ylabel(\"\")\n",
    "ax3.set_ylabel(\"\")\n",
    "plt.tight_layout()\n",
    "plt.show()"
   ]
  },
  {
   "cell_type": "markdown",
   "id": "1e694531",
   "metadata": {},
   "source": [
    "**Observation**\n",
    "* Nearly half of the rich students perform great at adapting to online education\n",
    "* Over half of the poor students have an unsatisfactory result in adapting to online education\n",
    "* Financial Condition seems to have a positive correlation with Adaptivity Level"
   ]
  },
  {
   "cell_type": "markdown",
   "id": "ed86792a",
   "metadata": {},
   "source": [
    "### Create Dummy Variables\n",
    "Now that we finished the data exploration, it's time to build our model to predict the adaptivity mode. Most Machine Learning algorithms cannot handle text data, for example, Neural Network and Logistic Regression. Therefore, we need to create what are called dummy variables for all our categorical features."
   ]
  },
  {
   "cell_type": "code",
   "execution_count": 32,
   "id": "d340844e",
   "metadata": {},
   "outputs": [],
   "source": [
    "#Converting the features with Values Yes or No into Numeric Binary Format.\n",
    "\n",
    "df['IT Student'] = (df['IT Student'] == 'Yes').astype(int)\n",
    "df['Location'] = (df['Location'] == 'Yes').astype(int)\n",
    "df['Self Lms'] = (df['Self Lms'] == 'Yes').astype(int)"
   ]
  },
  {
   "cell_type": "code",
   "execution_count": 33,
   "id": "b34823e8",
   "metadata": {},
   "outputs": [],
   "source": [
    "# Create dummy variables for all remaining 'object' type variables \n",
    "df = pd.get_dummies(df, columns=['Gender', 'Age', 'Education Level', 'Gender', 'Institution Type', 'Load-shedding', 'Financial Condition', 'Internet Type', 'Network Type', 'Class Duration', 'Device'])\n",
    "pd.set_option(\"display.max_columns\", None)"
   ]
  },
  {
   "cell_type": "code",
   "execution_count": 34,
   "id": "56080104",
   "metadata": {},
   "outputs": [
    {
     "data": {
      "text/html": [
       "<div>\n",
       "<style scoped>\n",
       "    .dataframe tbody tr th:only-of-type {\n",
       "        vertical-align: middle;\n",
       "    }\n",
       "\n",
       "    .dataframe tbody tr th {\n",
       "        vertical-align: top;\n",
       "    }\n",
       "\n",
       "    .dataframe thead th {\n",
       "        text-align: right;\n",
       "    }\n",
       "</style>\n",
       "<table border=\"1\" class=\"dataframe\">\n",
       "  <thead>\n",
       "    <tr style=\"text-align: right;\">\n",
       "      <th></th>\n",
       "      <th>IT Student</th>\n",
       "      <th>Location</th>\n",
       "      <th>Self Lms</th>\n",
       "      <th>Adaptivity Level</th>\n",
       "      <th>Gender_Boy</th>\n",
       "      <th>Gender_Girl</th>\n",
       "      <th>Age_1-5</th>\n",
       "      <th>Age_11-15</th>\n",
       "      <th>Age_16-20</th>\n",
       "      <th>Age_21-25</th>\n",
       "      <th>Age_26-30</th>\n",
       "      <th>Age_6-10</th>\n",
       "      <th>Education Level_College</th>\n",
       "      <th>Education Level_School</th>\n",
       "      <th>Education Level_University</th>\n",
       "      <th>Gender_Boy</th>\n",
       "      <th>Gender_Girl</th>\n",
       "      <th>Institution Type_Government</th>\n",
       "      <th>Institution Type_Non Government</th>\n",
       "      <th>Load-shedding_High</th>\n",
       "      <th>Load-shedding_Low</th>\n",
       "      <th>Financial Condition_Mid</th>\n",
       "      <th>Financial Condition_Poor</th>\n",
       "      <th>Financial Condition_Rich</th>\n",
       "      <th>Internet Type_Mobile Data</th>\n",
       "      <th>Internet Type_Wifi</th>\n",
       "      <th>Network Type_2G</th>\n",
       "      <th>Network Type_3G</th>\n",
       "      <th>Network Type_4G</th>\n",
       "      <th>Class Duration_0</th>\n",
       "      <th>Class Duration_1-3</th>\n",
       "      <th>Class Duration_3-6</th>\n",
       "      <th>Device_Computer</th>\n",
       "      <th>Device_Mobile</th>\n",
       "      <th>Device_Tab</th>\n",
       "    </tr>\n",
       "  </thead>\n",
       "  <tbody>\n",
       "    <tr>\n",
       "      <th>0</th>\n",
       "      <td>0</td>\n",
       "      <td>1</td>\n",
       "      <td>0</td>\n",
       "      <td>Moderate</td>\n",
       "      <td>1</td>\n",
       "      <td>0</td>\n",
       "      <td>0</td>\n",
       "      <td>0</td>\n",
       "      <td>0</td>\n",
       "      <td>1</td>\n",
       "      <td>0</td>\n",
       "      <td>0</td>\n",
       "      <td>0</td>\n",
       "      <td>0</td>\n",
       "      <td>1</td>\n",
       "      <td>1</td>\n",
       "      <td>0</td>\n",
       "      <td>0</td>\n",
       "      <td>1</td>\n",
       "      <td>0</td>\n",
       "      <td>1</td>\n",
       "      <td>1</td>\n",
       "      <td>0</td>\n",
       "      <td>0</td>\n",
       "      <td>0</td>\n",
       "      <td>1</td>\n",
       "      <td>0</td>\n",
       "      <td>0</td>\n",
       "      <td>1</td>\n",
       "      <td>0</td>\n",
       "      <td>0</td>\n",
       "      <td>1</td>\n",
       "      <td>0</td>\n",
       "      <td>0</td>\n",
       "      <td>1</td>\n",
       "    </tr>\n",
       "    <tr>\n",
       "      <th>1</th>\n",
       "      <td>0</td>\n",
       "      <td>1</td>\n",
       "      <td>1</td>\n",
       "      <td>Moderate</td>\n",
       "      <td>0</td>\n",
       "      <td>1</td>\n",
       "      <td>0</td>\n",
       "      <td>0</td>\n",
       "      <td>0</td>\n",
       "      <td>1</td>\n",
       "      <td>0</td>\n",
       "      <td>0</td>\n",
       "      <td>0</td>\n",
       "      <td>0</td>\n",
       "      <td>1</td>\n",
       "      <td>0</td>\n",
       "      <td>1</td>\n",
       "      <td>0</td>\n",
       "      <td>1</td>\n",
       "      <td>1</td>\n",
       "      <td>0</td>\n",
       "      <td>1</td>\n",
       "      <td>0</td>\n",
       "      <td>0</td>\n",
       "      <td>1</td>\n",
       "      <td>0</td>\n",
       "      <td>0</td>\n",
       "      <td>0</td>\n",
       "      <td>1</td>\n",
       "      <td>0</td>\n",
       "      <td>1</td>\n",
       "      <td>0</td>\n",
       "      <td>0</td>\n",
       "      <td>1</td>\n",
       "      <td>0</td>\n",
       "    </tr>\n",
       "  </tbody>\n",
       "</table>\n",
       "</div>"
      ],
      "text/plain": [
       "   IT Student  Location  Self Lms Adaptivity Level  Gender_Boy  Gender_Girl  \\\n",
       "0           0         1         0         Moderate           1            0   \n",
       "1           0         1         1         Moderate           0            1   \n",
       "\n",
       "   Age_1-5  Age_11-15  Age_16-20  Age_21-25  Age_26-30  Age_6-10  \\\n",
       "0        0          0          0          1          0         0   \n",
       "1        0          0          0          1          0         0   \n",
       "\n",
       "   Education Level_College  Education Level_School  \\\n",
       "0                        0                       0   \n",
       "1                        0                       0   \n",
       "\n",
       "   Education Level_University  Gender_Boy  Gender_Girl  \\\n",
       "0                           1           1            0   \n",
       "1                           1           0            1   \n",
       "\n",
       "   Institution Type_Government  Institution Type_Non Government  \\\n",
       "0                            0                                1   \n",
       "1                            0                                1   \n",
       "\n",
       "   Load-shedding_High  Load-shedding_Low  Financial Condition_Mid  \\\n",
       "0                   0                  1                        1   \n",
       "1                   1                  0                        1   \n",
       "\n",
       "   Financial Condition_Poor  Financial Condition_Rich  \\\n",
       "0                         0                         0   \n",
       "1                         0                         0   \n",
       "\n",
       "   Internet Type_Mobile Data  Internet Type_Wifi  Network Type_2G  \\\n",
       "0                          0                   1                0   \n",
       "1                          1                   0                0   \n",
       "\n",
       "   Network Type_3G  Network Type_4G  Class Duration_0  Class Duration_1-3  \\\n",
       "0                0                1                 0                   0   \n",
       "1                0                1                 0                   1   \n",
       "\n",
       "   Class Duration_3-6  Device_Computer  Device_Mobile  Device_Tab  \n",
       "0                   1                0              0           1  \n",
       "1                   0                0              1           0  "
      ]
     },
     "execution_count": 34,
     "metadata": {},
     "output_type": "execute_result"
    }
   ],
   "source": [
    "#Check if the dummy variable was created correctly.\n",
    "df.head(2)"
   ]
  },
  {
   "cell_type": "code",
   "execution_count": 35,
   "id": "9d835d84",
   "metadata": {},
   "outputs": [
    {
     "data": {
      "text/html": [
       "<div>\n",
       "<style scoped>\n",
       "    .dataframe tbody tr th:only-of-type {\n",
       "        vertical-align: middle;\n",
       "    }\n",
       "\n",
       "    .dataframe tbody tr th {\n",
       "        vertical-align: top;\n",
       "    }\n",
       "\n",
       "    .dataframe thead th {\n",
       "        text-align: right;\n",
       "    }\n",
       "</style>\n",
       "<table border=\"1\" class=\"dataframe\">\n",
       "  <thead>\n",
       "    <tr style=\"text-align: right;\">\n",
       "      <th></th>\n",
       "      <th>IT Student</th>\n",
       "      <th>Location</th>\n",
       "      <th>Self Lms</th>\n",
       "      <th>Adaptivity Level</th>\n",
       "      <th>Gender_Boy</th>\n",
       "      <th>Gender_Girl</th>\n",
       "      <th>Age_1-5</th>\n",
       "      <th>Age_11-15</th>\n",
       "      <th>Age_16-20</th>\n",
       "      <th>Age_21-25</th>\n",
       "      <th>Age_26-30</th>\n",
       "      <th>Age_6-10</th>\n",
       "      <th>Education Level_College</th>\n",
       "      <th>Education Level_School</th>\n",
       "      <th>Education Level_University</th>\n",
       "      <th>Gender_Boy</th>\n",
       "      <th>Gender_Girl</th>\n",
       "      <th>Institution Type_Government</th>\n",
       "      <th>Institution Type_Non Government</th>\n",
       "      <th>Load-shedding_High</th>\n",
       "      <th>Load-shedding_Low</th>\n",
       "      <th>Financial Condition_Mid</th>\n",
       "      <th>Financial Condition_Poor</th>\n",
       "      <th>Financial Condition_Rich</th>\n",
       "      <th>Internet Type_Mobile Data</th>\n",
       "      <th>Internet Type_Wifi</th>\n",
       "      <th>Network Type_2G</th>\n",
       "      <th>Network Type_3G</th>\n",
       "      <th>Network Type_4G</th>\n",
       "      <th>Class Duration_0</th>\n",
       "      <th>Class Duration_1-3</th>\n",
       "      <th>Class Duration_3-6</th>\n",
       "      <th>Device_Computer</th>\n",
       "      <th>Device_Mobile</th>\n",
       "      <th>Device_Tab</th>\n",
       "    </tr>\n",
       "  </thead>\n",
       "  <tbody>\n",
       "    <tr>\n",
       "      <th>1203</th>\n",
       "      <td>0</td>\n",
       "      <td>0</td>\n",
       "      <td>0</td>\n",
       "      <td>Low</td>\n",
       "      <td>0</td>\n",
       "      <td>1</td>\n",
       "      <td>0</td>\n",
       "      <td>0</td>\n",
       "      <td>1</td>\n",
       "      <td>0</td>\n",
       "      <td>0</td>\n",
       "      <td>0</td>\n",
       "      <td>1</td>\n",
       "      <td>0</td>\n",
       "      <td>0</td>\n",
       "      <td>0</td>\n",
       "      <td>1</td>\n",
       "      <td>0</td>\n",
       "      <td>1</td>\n",
       "      <td>0</td>\n",
       "      <td>1</td>\n",
       "      <td>1</td>\n",
       "      <td>0</td>\n",
       "      <td>0</td>\n",
       "      <td>0</td>\n",
       "      <td>1</td>\n",
       "      <td>0</td>\n",
       "      <td>0</td>\n",
       "      <td>1</td>\n",
       "      <td>0</td>\n",
       "      <td>1</td>\n",
       "      <td>0</td>\n",
       "      <td>0</td>\n",
       "      <td>1</td>\n",
       "      <td>0</td>\n",
       "    </tr>\n",
       "    <tr>\n",
       "      <th>1204</th>\n",
       "      <td>0</td>\n",
       "      <td>1</td>\n",
       "      <td>0</td>\n",
       "      <td>Moderate</td>\n",
       "      <td>0</td>\n",
       "      <td>1</td>\n",
       "      <td>0</td>\n",
       "      <td>1</td>\n",
       "      <td>0</td>\n",
       "      <td>0</td>\n",
       "      <td>0</td>\n",
       "      <td>0</td>\n",
       "      <td>0</td>\n",
       "      <td>1</td>\n",
       "      <td>0</td>\n",
       "      <td>0</td>\n",
       "      <td>1</td>\n",
       "      <td>0</td>\n",
       "      <td>1</td>\n",
       "      <td>0</td>\n",
       "      <td>1</td>\n",
       "      <td>0</td>\n",
       "      <td>1</td>\n",
       "      <td>0</td>\n",
       "      <td>1</td>\n",
       "      <td>0</td>\n",
       "      <td>0</td>\n",
       "      <td>1</td>\n",
       "      <td>0</td>\n",
       "      <td>0</td>\n",
       "      <td>1</td>\n",
       "      <td>0</td>\n",
       "      <td>0</td>\n",
       "      <td>1</td>\n",
       "      <td>0</td>\n",
       "    </tr>\n",
       "  </tbody>\n",
       "</table>\n",
       "</div>"
      ],
      "text/plain": [
       "      IT Student  Location  Self Lms Adaptivity Level  Gender_Boy  \\\n",
       "1203           0         0         0              Low           0   \n",
       "1204           0         1         0         Moderate           0   \n",
       "\n",
       "      Gender_Girl  Age_1-5  Age_11-15  Age_16-20  Age_21-25  Age_26-30  \\\n",
       "1203            1        0          0          1          0          0   \n",
       "1204            1        0          1          0          0          0   \n",
       "\n",
       "      Age_6-10  Education Level_College  Education Level_School  \\\n",
       "1203         0                        1                       0   \n",
       "1204         0                        0                       1   \n",
       "\n",
       "      Education Level_University  Gender_Boy  Gender_Girl  \\\n",
       "1203                           0           0            1   \n",
       "1204                           0           0            1   \n",
       "\n",
       "      Institution Type_Government  Institution Type_Non Government  \\\n",
       "1203                            0                                1   \n",
       "1204                            0                                1   \n",
       "\n",
       "      Load-shedding_High  Load-shedding_Low  Financial Condition_Mid  \\\n",
       "1203                   0                  1                        1   \n",
       "1204                   0                  1                        0   \n",
       "\n",
       "      Financial Condition_Poor  Financial Condition_Rich  \\\n",
       "1203                         0                         0   \n",
       "1204                         1                         0   \n",
       "\n",
       "      Internet Type_Mobile Data  Internet Type_Wifi  Network Type_2G  \\\n",
       "1203                          0                   1                0   \n",
       "1204                          1                   0                0   \n",
       "\n",
       "      Network Type_3G  Network Type_4G  Class Duration_0  Class Duration_1-3  \\\n",
       "1203                0                1                 0                   1   \n",
       "1204                1                0                 0                   1   \n",
       "\n",
       "      Class Duration_3-6  Device_Computer  Device_Mobile  Device_Tab  \n",
       "1203                   0                0              1           0  \n",
       "1204                   0                0              1           0  "
      ]
     },
     "execution_count": 35,
     "metadata": {},
     "output_type": "execute_result"
    }
   ],
   "source": [
    "# It's always nice to check the tail of data to enhance the confidence that the data was transformed correctly.\n",
    "df.tail(2)"
   ]
  },
  {
   "cell_type": "markdown",
   "id": "d10df0ff",
   "metadata": {},
   "source": [
    "### Data Partition"
   ]
  },
  {
   "cell_type": "code",
   "execution_count": 36,
   "id": "b4a718a2",
   "metadata": {},
   "outputs": [],
   "source": [
    "# Seperate the input features and target variable\n",
    "x = df.drop('Adaptivity Level',axis=1)\n",
    "y = df['Adaptivity Level']"
   ]
  },
  {
   "cell_type": "code",
   "execution_count": 37,
   "id": "ecdafe44",
   "metadata": {},
   "outputs": [],
   "source": [
    "# splitting the data in training and testing set\n",
    "from sklearn.model_selection import train_test_split\n",
    "xtrain, xtest, ytrain, ytest = train_test_split(x,y, test_size=0.2, random_state=123)"
   ]
  },
  {
   "cell_type": "code",
   "execution_count": 38,
   "id": "ee5424bb",
   "metadata": {},
   "outputs": [
    {
     "data": {
      "text/plain": [
       "((964, 34), (241, 34), (964,), (241,))"
      ]
     },
     "execution_count": 38,
     "metadata": {},
     "output_type": "execute_result"
    }
   ],
   "source": [
    "xtrain.shape, xtest.shape, ytrain.shape, ytest.shape"
   ]
  },
  {
   "cell_type": "code",
   "execution_count": 39,
   "id": "36d621a1",
   "metadata": {},
   "outputs": [
    {
     "name": "stdout",
     "output_type": "stream",
     "text": [
      "<class 'pandas.core.frame.DataFrame'>\n",
      "RangeIndex: 1205 entries, 0 to 1204\n",
      "Data columns (total 35 columns):\n",
      " #   Column                           Non-Null Count  Dtype \n",
      "---  ------                           --------------  ----- \n",
      " 0   IT Student                       1205 non-null   int32 \n",
      " 1   Location                         1205 non-null   int32 \n",
      " 2   Self Lms                         1205 non-null   int32 \n",
      " 3   Adaptivity Level                 1205 non-null   object\n",
      " 4   Gender_Boy                       1205 non-null   uint8 \n",
      " 5   Gender_Girl                      1205 non-null   uint8 \n",
      " 6   Age_1-5                          1205 non-null   uint8 \n",
      " 7   Age_11-15                        1205 non-null   uint8 \n",
      " 8   Age_16-20                        1205 non-null   uint8 \n",
      " 9   Age_21-25                        1205 non-null   uint8 \n",
      " 10  Age_26-30                        1205 non-null   uint8 \n",
      " 11  Age_6-10                         1205 non-null   uint8 \n",
      " 12  Education Level_College          1205 non-null   uint8 \n",
      " 13  Education Level_School           1205 non-null   uint8 \n",
      " 14  Education Level_University       1205 non-null   uint8 \n",
      " 15  Gender_Boy                       1205 non-null   uint8 \n",
      " 16  Gender_Girl                      1205 non-null   uint8 \n",
      " 17  Institution Type_Government      1205 non-null   uint8 \n",
      " 18  Institution Type_Non Government  1205 non-null   uint8 \n",
      " 19  Load-shedding_High               1205 non-null   uint8 \n",
      " 20  Load-shedding_Low                1205 non-null   uint8 \n",
      " 21  Financial Condition_Mid          1205 non-null   uint8 \n",
      " 22  Financial Condition_Poor         1205 non-null   uint8 \n",
      " 23  Financial Condition_Rich         1205 non-null   uint8 \n",
      " 24  Internet Type_Mobile Data        1205 non-null   uint8 \n",
      " 25  Internet Type_Wifi               1205 non-null   uint8 \n",
      " 26  Network Type_2G                  1205 non-null   uint8 \n",
      " 27  Network Type_3G                  1205 non-null   uint8 \n",
      " 28  Network Type_4G                  1205 non-null   uint8 \n",
      " 29  Class Duration_0                 1205 non-null   uint8 \n",
      " 30  Class Duration_1-3               1205 non-null   uint8 \n",
      " 31  Class Duration_3-6               1205 non-null   uint8 \n",
      " 32  Device_Computer                  1205 non-null   uint8 \n",
      " 33  Device_Mobile                    1205 non-null   uint8 \n",
      " 34  Device_Tab                       1205 non-null   uint8 \n",
      "dtypes: int32(3), object(1), uint8(31)\n",
      "memory usage: 60.1+ KB\n"
     ]
    }
   ],
   "source": [
    "df.info()"
   ]
  },
  {
   "cell_type": "code",
   "execution_count": 49,
   "id": "0a5c340e",
   "metadata": {},
   "outputs": [
    {
     "data": {
      "text/plain": [
       "{LogisticRegression(): (0.7054188255613126, 0.025621086403352273),\n",
       " RandomForestClassifier(): (0.9004047927461141, 0.019825451143601503)}"
      ]
     },
     "execution_count": 49,
     "metadata": {},
     "output_type": "execute_result"
    }
   ],
   "source": [
    "# Before going directly into building the predictive model, comparing and evaluating different models is necessary.\n",
    "# Cross-Validation used to compare and select an appropriate model.\n",
    "\n",
    "from sklearn.model_selection import cross_val_score\n",
    "\n",
    "# We are comparing Logistic Regression and Random Forest in this project\n",
    "models = [LogisticRegression(), RandomForestClassifier()]\n",
    "\n",
    "results = {}\n",
    "\n",
    "for model in models:\n",
    "    res = cross_val_score(model, xtrain, ytrain, cv=5, scoring='accuracy')\n",
    "    results[model] = (res.mean(),res.std())\n",
    "results"
   ]
  },
  {
   "cell_type": "markdown",
   "id": "3bb49126",
   "metadata": {},
   "source": [
    "#### Here we can obtain better accuracy by Random Forest and also the standard deviation is low. \n",
    "#### The standard deviation is a measure of variation of the scores. (less the better)\n",
    "\n",
    "Now, Random Forest is chosen, and train the model on the entire train set and make predictions on the test set"
   ]
  },
  {
   "cell_type": "code",
   "execution_count": 40,
   "id": "f02c4490",
   "metadata": {},
   "outputs": [],
   "source": [
    "# Import GridSearch CV\n",
    "from sklearn.model_selection import GridSearchCV"
   ]
  },
  {
   "cell_type": "code",
   "execution_count": 41,
   "id": "023f1b43",
   "metadata": {},
   "outputs": [
    {
     "data": {
      "text/plain": [
       "{'bootstrap': True,\n",
       " 'ccp_alpha': 0.0,\n",
       " 'class_weight': None,\n",
       " 'criterion': 'gini',\n",
       " 'max_depth': None,\n",
       " 'max_features': 'auto',\n",
       " 'max_leaf_nodes': None,\n",
       " 'max_samples': None,\n",
       " 'min_impurity_decrease': 0.0,\n",
       " 'min_samples_leaf': 1,\n",
       " 'min_samples_split': 2,\n",
       " 'min_weight_fraction_leaf': 0.0,\n",
       " 'n_estimators': 100,\n",
       " 'n_jobs': None,\n",
       " 'oob_score': False,\n",
       " 'random_state': None,\n",
       " 'verbose': 0,\n",
       " 'warm_start': False}"
      ]
     },
     "execution_count": 41,
     "metadata": {},
     "output_type": "execute_result"
    }
   ],
   "source": [
    "# We can determine the best combination of hyperparameters for different algorithms using Grid Search\n",
    "# Now let's check the tunable hyperparameters for Random Forest algorithm\n",
    "RandomForestClassifier().get_params()"
   ]
  },
  {
   "cell_type": "markdown",
   "id": "e0ec0c11",
   "metadata": {},
   "source": [
    "For random forests,\n",
    "\n",
    "* The first hyperparameter to tune is n_estimators. We will try 100, 150 and 200.\n",
    "\n",
    "* Another hyperparameter we can tune is max_depth of the tree. we will try None, 1, 2, 3.\n",
    "\n",
    "* The second one is max_features. Let's try - 'auto', 'sqrt', and 0.33.\n",
    "\n",
    "* The third one is min_samples_leaf. Let's try - 1, 3, 5, 7 and 9"
   ]
  },
  {
   "cell_type": "code",
   "execution_count": 42,
   "id": "ef280327",
   "metadata": {},
   "outputs": [],
   "source": [
    "# we will try different values for parameters max_depth and min_samples_split of a tree\n",
    "params = {'n_estimators':[100, 150, 200],\n",
    "          'max_depth':[None,1,2,3],\n",
    "         'max_features':['auto', 'sqrt', 0.33],\n",
    "         'min_samples_leaf':[1, 3, 5, 7, 9]}"
   ]
  },
  {
   "cell_type": "code",
   "execution_count": 43,
   "id": "926c8f43",
   "metadata": {},
   "outputs": [
    {
     "data": {
      "text/plain": [
       "GridSearchCV(cv=5, estimator=RandomForestClassifier(),\n",
       "             param_grid={'max_depth': [None, 1, 2, 3],\n",
       "                         'max_features': ['auto', 'sqrt', 0.33],\n",
       "                         'min_samples_leaf': [1, 3, 5, 7, 9],\n",
       "                         'n_estimators': [100, 150, 200]},\n",
       "             scoring='accuracy')"
      ]
     },
     "execution_count": 43,
     "metadata": {},
     "output_type": "execute_result"
    }
   ],
   "source": [
    "# create a grid search\n",
    "grid = GridSearchCV(RandomForestClassifier(), params, cv=5, scoring='accuracy')\n",
    "grid.fit(xtrain, ytrain)"
   ]
  },
  {
   "cell_type": "code",
   "execution_count": 45,
   "id": "04783bca",
   "metadata": {},
   "outputs": [
    {
     "data": {
      "text/plain": [
       "(0.9035136010362695,\n",
       " {'max_depth': None,\n",
       "  'max_features': 'sqrt',\n",
       "  'min_samples_leaf': 1,\n",
       "  'n_estimators': 100})"
      ]
     },
     "execution_count": 45,
     "metadata": {},
     "output_type": "execute_result"
    }
   ],
   "source": [
    "grid.best_score_, grid.best_params_"
   ]
  },
  {
   "cell_type": "code",
   "execution_count": 46,
   "id": "289709ec",
   "metadata": {},
   "outputs": [
    {
     "name": "stdout",
     "output_type": "stream",
     "text": [
      "0.9087136929460581 \n",
      "\n",
      "[[ 16   0   6]\n",
      " [  1  85   7]\n",
      " [  2   6 118]]\n"
     ]
    }
   ],
   "source": [
    "# We use the above results to define our hyperparameters for the random forest. Please note that other parameters not listed below are the same as default values\n",
    "\n",
    "rfmodel = RandomForestClassifier(n_estimators=100, max_features='sqrt')\n",
    "rfmodel.fit(xtrain, ytrain)\n",
    "\n",
    "# predict on xtest\n",
    "ypred = rfmodel.predict(xtest)\n",
    "\n",
    "from sklearn.metrics import accuracy_score, confusion_matrix\n",
    "\n",
    "print(accuracy_score(ypred, ytest),'\\n')\n",
    "print(confusion_matrix(ytest, ypred))"
   ]
  },
  {
   "cell_type": "markdown",
   "id": "00fb82d3",
   "metadata": {},
   "source": [
    "#### The accuracy is over 90%, satisfies our requirement (>80%). It can be saved for later use"
   ]
  },
  {
   "cell_type": "code",
   "execution_count": 47,
   "id": "6cc07c79",
   "metadata": {},
   "outputs": [
    {
     "data": {
      "text/plain": [
       "array([0.04372699, 0.05019347, 0.04768562, 0.02199374, 0.01949429,\n",
       "       0.01452874, 0.02280744, 0.02928939, 0.0176091 , 0.01018759,\n",
       "       0.01425838, 0.02339576, 0.02204726, 0.02557682, 0.02221676,\n",
       "       0.02237419, 0.03537252, 0.04351253, 0.0252925 , 0.02152661,\n",
       "       0.04619965, 0.03009278, 0.03391567, 0.03273443, 0.03387344,\n",
       "       0.00575053, 0.03476776, 0.03516861, 0.0815587 , 0.04200211,\n",
       "       0.03759474, 0.0237367 , 0.02382431, 0.00569085])"
      ]
     },
     "execution_count": 47,
     "metadata": {},
     "output_type": "execute_result"
    }
   ],
   "source": [
    "rfmodel.feature_importances_"
   ]
  },
  {
   "cell_type": "code",
   "execution_count": 48,
   "id": "3cab2399",
   "metadata": {},
   "outputs": [
    {
     "data": {
      "text/plain": [
       "array(['IT Student', 'Location', 'Self Lms', 'Gender_Boy', 'Gender_Girl',\n",
       "       'Age_1-5', 'Age_11-15', 'Age_16-20', 'Age_21-25', 'Age_26-30',\n",
       "       'Age_6-10', 'Education Level_College', 'Education Level_School',\n",
       "       'Education Level_University', 'Gender_Boy', 'Gender_Girl',\n",
       "       'Institution Type_Government', 'Institution Type_Non Government',\n",
       "       'Load-shedding_High', 'Load-shedding_Low',\n",
       "       'Financial Condition_Mid', 'Financial Condition_Poor',\n",
       "       'Financial Condition_Rich', 'Internet Type_Mobile Data',\n",
       "       'Internet Type_Wifi', 'Network Type_2G', 'Network Type_3G',\n",
       "       'Network Type_4G', 'Class Duration_0', 'Class Duration_1-3',\n",
       "       'Class Duration_3-6', 'Device_Computer', 'Device_Mobile',\n",
       "       'Device_Tab'], dtype=object)"
      ]
     },
     "execution_count": 48,
     "metadata": {},
     "output_type": "execute_result"
    }
   ],
   "source": [
    "rfmodel.feature_names_in_"
   ]
  },
  {
   "cell_type": "code",
   "execution_count": 83,
   "id": "cdc53e17",
   "metadata": {},
   "outputs": [
    {
     "data": {
      "image/png": "[encoded data removed]",
      "text/plain": [
       "<Figure size 576x720 with 1 Axes>"
      ]
     },
     "metadata": {
      "needs_background": "light"
     },
     "output_type": "display_data"
    }
   ],
   "source": [
    "plt.figure(figsize=(8,10))\n",
    "sorted_index = rfmodel.feature_importances_.argsort()\n",
    "plt.barh(rfmodel.feature_names_in_[sorted_index],rfmodel.feature_importances_[sorted_index])\n",
    "plt.title('Feature Importance Plot')\n",
    "plt.show()"
   ]
  },
  {
   "cell_type": "markdown",
   "id": "e3abb14e",
   "metadata": {},
   "source": [
    "## Save Model"
   ]
  },
  {
   "cell_type": "code",
   "execution_count": 52,
   "id": "3a61b920",
   "metadata": {},
   "outputs": [],
   "source": [
    "# import pickle to save model\n",
    "import pickle\n",
    "\n",
    "pickle.dump(rfmodel, open('Model','wb'))"
   ]
  }
 ],
 "metadata": {
  "kernelspec": {
   "display_name": "Python 3 (ipykernel)",
   "language": "python",
   "name": "python3"
  },
  "language_info": {
   "codemirror_mode": {
    "name": "ipython",
    "version": 3
   },
   "file_extension": ".py",
   "mimetype": "text/x-python",
   "name": "python",
   "nbconvert_exporter": "python",
   "pygments_lexer": "ipython3",
   "version": "3.9.7"
  }
 },
 "nbformat": 4,
 "nbformat_minor": 5
}
